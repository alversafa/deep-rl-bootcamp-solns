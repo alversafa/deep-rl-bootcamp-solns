{
 "cells": [
  {
   "cell_type": "code",
   "execution_count": 1,
   "metadata": {},
   "outputs": [],
   "source": [
    "\"\"\"\n",
    "This project was developed by Peter Chen, Rocky Duan, Pieter Abbeel for the Berkeley Deep RL Bootcamp, August 2017.\n",
    "Bootcamp website with slides and lecture videos: https://sites.google.com/view/deep-rl-bootcamp/.\n",
    "\n",
    "Code adapted from Stanford CS231N materials: http://cs231n.stanford.edu/\n",
    "\"\"\"\n",
    "\n",
    "\n",
    "# note to properly run this lab, you should execute all code blocks sequentially\n",
    "import chainer\n",
    "import chainer.functions as F\n",
    "import chainer.links as L\n",
    "from chainer import training\n",
    "from chainer.training import extensions\n",
    "\n",
    "from collections import namedtuple, defaultdict, deque\n",
    "\n",
    "import numpy as np\n",
    "\n",
    "%matplotlib inline\n",
    "\n",
    "import matplotlib\n",
    "import matplotlib.pyplot as plt"
   ]
  },
  {
   "cell_type": "markdown",
   "metadata": {},
   "source": [
    "## Introduction to Chainer\n",
    "\n",
    "Chainer can be understood as Numpy plus the ability to record the computation graph of numerical operations to enable Automatic Differentiation. (Chainer actually also offers many other things; for example, a Numpy equivalent library that runs on GPU, but we will ignore them for now)"
   ]
  },
  {
   "cell_type": "markdown",
   "metadata": {},
   "source": [
    "Let's illustrate how Chainer works by a simple 1D regression task.\n",
    "\n",
    "Suppose we have observations from the following model $y = w x + b + \\epsilon$ where $\\epsilon \\sim \\mathcal{N}(0, 0.1)$ and the task is to estimate the linear model parameters $w, b$ from data."
   ]
  },
  {
   "cell_type": "code",
   "execution_count": 2,
   "metadata": {},
   "outputs": [
    {
     "data": {
      "image/png": "[encoded data removed]",
      "text/plain": [
       "<Figure size 432x288 with 1 Axes>"
      ]
     },
     "metadata": {},
     "output_type": "display_data"
    }
   ],
   "source": [
    "# first generate some observations\n",
    "true_a = 1.3\n",
    "true_b = 0.4\n",
    "data_x = (np.arange(100) / 99.0 - .5).astype(np.float32) # Chainer assumes all the cpu computation is done in float32\n",
    "data_y = (data_x * true_a + true_b + np.random.randn(*data_x.shape) * 0.1).astype(np.float32)\n",
    "_ = plt.scatter(data_x, data_y, c='b')"
   ]
  },
  {
   "cell_type": "markdown",
   "metadata": {},
   "source": [
    "Chainer provides an abstraction called `Link` that describe some computation and keeps track of parameters for it. For instance, a `Linear` link describes a linear map on input and keeps track of `w` and bias `b`."
   ]
  },
  {
   "cell_type": "code",
   "execution_count": 3,
   "metadata": {},
   "outputs": [
    {
     "name": "stdout",
     "output_type": "stream",
     "text": [
      "w: variable W([[ 0.98645675]])\n",
      "b: variable b([ 0.])\n",
      "(1, 1)\n",
      "Operations on chainer.Variable: variable([[ 123.98645782]]), type: <class 'chainer.variable.Variable'>\n",
      "numpy arrays: [[ 0.98645675]] [[ 123.98645782]]\n"
     ]
    }
   ],
   "source": [
    "model = L.Linear(in_size=1, out_size=1) # input is 1D data and output is also 1D data\n",
    "\n",
    "# Chainer will randomly initialize `w` and `b` for us.\n",
    "# we can take a look at their values\n",
    "print(\"w:\", model.W)\n",
    "print(\"b:\", model.b)\n",
    "\n",
    "print(model.W.shape)\n",
    "\n",
    "# model.W and model.b have type `chainer.Variable`, \n",
    "#   which is a wrapper around Numpy array\n",
    "assert isinstance(model.W, chainer.Variable)\n",
    "\n",
    "# operations that involve `chainer.Variable` will produce\n",
    "# `chainer.Variable` and this records the computation graph\n",
    "var_result = model.W + 123 # some random computation\n",
    "print(\"Operations on chainer.Variable: %s, type: %s\" % (var_result, type(var_result)))\n",
    "\n",
    "# the underlying numpy array can be accessed by `data` attribute\n",
    "print(\"numpy arrays:\", model.W.data, var_result.data)"
   ]
  },
  {
   "cell_type": "code",
   "execution_count": 4,
   "metadata": {},
   "outputs": [
    {
     "data": {
      "image/png": "[encoded data removed]",
      "text/plain": [
       "<Figure size 432x288 with 1 Axes>"
      ]
     },
     "metadata": {},
     "output_type": "display_data"
    }
   ],
   "source": [
    "# A chainer link is a callable object. calling it performs the\n",
    "#   forward computation. (in this case, it performs Wx + b)\n",
    "model_y = model(data_x[:, None]) # chainer's link usually assumes input is [Batch Size, Input Dimension]\n",
    "# `model_y` is a chainer variable so we use `.data` to access its numpy array for plotting\n",
    "\n",
    "# we can plot the model's current fit in red. it should be terrible because we haven't trained it yet\n",
    "_ = plt.plot(data_x, model_y.data[:,0], c='r')\n",
    "_ = plt.scatter(data_x, data_y, c='b')\n",
    "_ = plt.title(\"Initial model\")"
   ]
  },
  {
   "cell_type": "code",
   "execution_count": 5,
   "metadata": {},
   "outputs": [
    {
     "name": "stdout",
     "output_type": "stream",
     "text": [
      "loss variable(0.17373330891132355)\n",
      "dloss/dW [[-0.05188771]]\n"
     ]
    }
   ],
   "source": [
    "# now let's walk through how to perform forward computation\n",
    "# and use AD to get gradients\n",
    "\n",
    "# first we clear the gradients that are stored in the model\n",
    "model.cleargrads()\n",
    "# as we have seen we can perform forward computation by calling the link\n",
    "model_y = model(data_x[:, None])\n",
    "\n",
    "# remember that `model_y` is a chainer variable. to operate on chainer variable\n",
    "# we will use functions from chainer.functions to operate on those objects.\n",
    "loss = F.mean(F.square(model_y - data_y[:, None]))\n",
    "# `loss` is a scalar chainer variable\n",
    "assert isinstance(loss, chainer.Variable)\n",
    "print(\"loss\", loss)\n",
    "# calculating gradients d loss /d params is as simple as\n",
    "loss.backward()\n",
    "\n",
    "# we can inspect the gradient of loss with respect to W\n",
    "print(\"dloss/dW\", model.W.grad)"
   ]
  },
  {
   "cell_type": "markdown",
   "metadata": {},
   "source": [
    "Now that we know how to calculate gradients, we can code up a simple loop to perform gradient descent to train this model:\n",
    "\n",
    "(Hint: if you run into weird problems, maybe the state has been messed up and you can try re-runing all the code blocks from the beginning)"
   ]
  },
  {
   "cell_type": "code",
   "execution_count": 6,
   "metadata": {},
   "outputs": [
    {
     "name": "stdout",
     "output_type": "stream",
     "text": [
      "Itr 0 loss: variable(0.18160659074783325)\n",
      "Itr 25 loss: variable(0.1658174842596054)\n",
      "Itr 50 loss: variable(0.16581565141677856)\n",
      "Itr 75 loss: variable(0.16581538319587708)\n"
     ]
    },
    {
     "data": {
      "image/png": "[encoded data removed]",
      "text/plain": [
       "<Figure size 432x288 with 1 Axes>"
      ]
     },
     "metadata": {},
     "output_type": "display_data"
    },
    {
     "data": {
      "image/png": "[encoded data removed]",
      "text/plain": [
       "<Figure size 432x288 with 1 Axes>"
      ]
     },
     "metadata": {},
     "output_type": "display_data"
    }
   ],
   "source": [
    "# now we can perform gradient descent to improve this model\n",
    "model = L.Linear(in_size=1, out_size=1)\n",
    "losses = []\n",
    "\n",
    "learning_rate = 1\n",
    "\n",
    "for i in range(100):\n",
    "    model.cleargrads()\n",
    "    loss = F.mean(F.square(model(data_x[:, None]) - data_y[:, None]))\n",
    "    losses.append(float(loss.data))\n",
    "    ## *** YOUR CODE HERE TO PERFORM GRADIENT DESCENT ***\n",
    "    ## Hint: you could access gradients with model.W.grad, model.b.grad\n",
    "    ## Hint2: you could write data into a parameter with model.W.data[:] = some_numpy_array\n",
    "    ## Hint3: if your model doesn't learn, remember to try different learning rates\n",
    "    \n",
    "    # SOLUTION\n",
    "    loss.backward()\n",
    "    \n",
    "    model.W.data -= learning_rate * model.W.grad\n",
    "    model.b.data -= learning_rate * model.b.grad\n",
    "    \n",
    "    # END OF SOLUTION\n",
    "    \n",
    "    if i % 25 == 0:\n",
    "        print(\"Itr\", i, \"loss:\", loss)\n",
    "        \n",
    "plt.plot(np.array(losses))\n",
    "plt.title(\"Learning curve\")\n",
    "plt.figure()\n",
    "plt.plot(data_x, model(data_x[:, None])[:,0].data, c='r')\n",
    "plt.scatter(data_x, data_y, c='b')\n",
    "_ = plt.title(\"Trained model fitness\")\n"
   ]
  },
  {
   "cell_type": "markdown",
   "metadata": {},
   "source": [
    "## Train your first deep model\n",
    "\n",
    "Now we have learned the basics of Chainer. We can use it to train a deep model to classify MNIST digits. We will train a model on the MNIST dataset because the dataset is small.\n",
    "\n",
    "First we load the data and see what the images look like:"
   ]
  },
  {
   "cell_type": "code",
   "execution_count": 7,
   "metadata": {
    "scrolled": false
   },
   "outputs": [
    {
     "name": "stdout",
     "output_type": "stream",
     "text": [
      "train[i][0] is the ith image that's flattened, and has shape: (784,)\n",
      "train[i][1] is the ith image's label, such as: 3\n"
     ]
    },
    {
     "data": {
      "image/png": "[encoded data removed]",
      "text/plain": [
       "<Figure size 432x288 with 1 Axes>"
      ]
     },
     "metadata": {},
     "output_type": "display_data"
    },
    {
     "data": {
      "image/png": "[encoded data removed]",
      "text/plain": [
       "<Figure size 432x288 with 1 Axes>"
      ]
     },
     "metadata": {},
     "output_type": "display_data"
    }
   ],
   "source": [
    "train, test = chainer.datasets.get_mnist()\n",
    "\n",
    "# use train[data_point_index] to access data\n",
    "print(\"train[i][0] is the ith image that's flattened, and has shape:\", train[12][0].shape)\n",
    "print(\"train[i][1] is the ith image's label, such as:\", train[12][1])\n",
    "# here we visualize two of them\n",
    "plt.imshow(train[12][0].reshape([28, 28,]))\n",
    "plt.title(\"Label: %s\" % train[12][1])\n",
    "plt.figure()\n",
    "plt.imshow(train[42][0].reshape([28, 28,]))\n",
    "_ = plt.title(\"Label: %s\" % train[42][1])"
   ]
  },
  {
   "cell_type": "markdown",
   "metadata": {},
   "source": [
    "Next we will provide some boilerplate code and train a linear classifier as an example:"
   ]
  },
  {
   "cell_type": "code",
   "execution_count": 8,
   "metadata": {},
   "outputs": [
    {
     "name": "stdout",
     "output_type": "stream",
     "text": [
      "accuracy: 0.0625; loss: 2.36098861694\n",
      "accuracy: 0.8525; loss: 0.637746690512\n",
      "accuracy: 0.8775; loss: 0.468824329376\n",
      "accuracy: 0.9; loss: 0.385648724437\n",
      "accuracy: 0.89; loss: 0.405417266488\n",
      "accuracy: 0.9175; loss: 0.321664657295\n",
      "accuracy: 0.8825; loss: 0.388487036824\n",
      "accuracy: 0.905; loss: 0.345183737874\n",
      "accuracy: 0.9125; loss: 0.314195497632\n",
      "accuracy: 0.91; loss: 0.281066377759\n",
      "accuracy: 0.93; loss: 0.295625793934\n",
      "accuracy: 0.9225; loss: 0.249506878257\n",
      "accuracy: 0.9275; loss: 0.289294960797\n",
      "accuracy: 0.895; loss: 0.403458530307\n",
      "accuracy: 0.9275; loss: 0.255096197426\n",
      "accuracy: 0.9125; loss: 0.27183150351\n",
      "accuracy: 0.9275; loss: 0.267053060532\n",
      "accuracy: 0.92; loss: 0.298493586183\n",
      "accuracy: 0.9325; loss: 0.273343095183\n",
      "accuracy: 0.9275; loss: 0.264639821351\n",
      "accuracy: 0.9125; loss: 0.307061653137\n",
      "accuracy: 0.915; loss: 0.24378559649\n",
      "accuracy: 0.93; loss: 0.326000562906\n",
      "accuracy: 0.93; loss: 0.25375210911\n",
      "accuracy: 0.9125; loss: 0.290319340825\n",
      "accuracy: 0.9125; loss: 0.308484270573\n"
     ]
    }
   ],
   "source": [
    "def run(model, batchsize=16, num_epochs=2):\n",
    "    \n",
    "    optimizer = chainer.optimizers.Adam() # we will use chainer's Adam implementation instead of writing our own gradient based optimization\n",
    "    optimizer.setup(model)\n",
    "    \n",
    "    stats = defaultdict(lambda: deque(maxlen=25))\n",
    "    for epoch in range(num_epochs):\n",
    "        train_iter = chainer.iterators.SerialIterator(train, batchsize, repeat=False, shuffle=True)\n",
    "        test_iter = chainer.iterators.SerialIterator(test, batchsize, repeat=False, shuffle=False)\n",
    "        \n",
    "        for itr, batch in enumerate(train_iter):\n",
    "            xs = np.concatenate([datum[0][None, :] for datum in batch])\n",
    "            ys = np.array([datum[1] for datum in batch])\n",
    "\n",
    "            logits = model(xs)\n",
    "\n",
    "            loss = F.softmax_cross_entropy(logits, ys)\n",
    "            model.cleargrads()\n",
    "            loss.backward()\n",
    "            optimizer.update()\n",
    "            \n",
    "            # calculate stats\n",
    "            stats[\"loss\"].append(float(loss.data))\n",
    "            stats[\"accuracy\"].append(float((logits.data.argmax(1) == ys).sum() / batchsize))\n",
    "            if itr % 300 == 0:\n",
    "                print(\"; \".join(\"%s: %s\" % (k, np.mean(vs)) for k, vs in stats.items()))\n",
    "\n",
    "# try a simple linear model\n",
    "run(L.Linear(None, 10))"
   ]
  },
  {
   "cell_type": "markdown",
   "metadata": {},
   "source": [
    "Next we will try to improve performance by training an MLP instead. A partial implementation is provided for you to fill in:"
   ]
  },
  {
   "cell_type": "code",
   "execution_count": 9,
   "metadata": {},
   "outputs": [
    {
     "name": "stdout",
     "output_type": "stream",
     "text": [
      "accuracy: 0.0625; loss: 2.33138298988\n",
      "accuracy: 0.8875; loss: 0.334832838476\n",
      "accuracy: 0.9375; loss: 0.236049288511\n",
      "accuracy: 0.955; loss: 0.134355854988\n",
      "accuracy: 0.93; loss: 0.226021283865\n",
      "accuracy: 0.9575; loss: 0.15454631418\n",
      "accuracy: 0.935; loss: 0.21348623395\n",
      "accuracy: 0.96; loss: 0.124762963057\n",
      "accuracy: 0.9575; loss: 0.157841695249\n",
      "accuracy: 0.955; loss: 0.16892031312\n",
      "accuracy: 0.955; loss: 0.165444886684\n",
      "accuracy: 0.9775; loss: 0.0818471336365\n",
      "accuracy: 0.9675; loss: 0.105744742751\n",
      "accuracy: 0.965; loss: 0.120035322011\n",
      "accuracy: 0.9775; loss: 0.0847537881136\n",
      "accuracy: 0.985; loss: 0.0492774367332\n",
      "accuracy: 0.9675; loss: 0.07063713938\n",
      "accuracy: 0.955; loss: 0.117004701197\n",
      "accuracy: 0.99; loss: 0.0455859348178\n",
      "accuracy: 0.96; loss: 0.135210334361\n",
      "accuracy: 0.97; loss: 0.0754836189747\n",
      "accuracy: 0.975; loss: 0.0557348746061\n",
      "accuracy: 0.98; loss: 0.118801686764\n",
      "accuracy: 0.975; loss: 0.0848817780614\n",
      "accuracy: 0.9775; loss: 0.0548784548044\n",
      "accuracy: 0.97; loss: 0.0848140627146\n"
     ]
    }
   ],
   "source": [
    "class MLP(chainer.Chain):\n",
    "\n",
    "    def __init__(self, n_units, n_out):\n",
    "        super(MLP, self).__init__()\n",
    "        with self.init_scope():\n",
    "            # the size of the inputs to each layer will be inferred\n",
    "            self.l1 = L.Linear(None, n_units)  # n_in -> n_units\n",
    "            self.l2 = L.Linear(None, n_units)  # n_units -> n_units\n",
    "            self.l3 = L.Linear(None, n_out)  # n_units -> n_out\n",
    "\n",
    "    def __call__(self, x):\n",
    "        # *** YOUR CODE HERE TO BUILD AN MLP W/ self.l1, self.l2, self.l3 ***\n",
    "        # \n",
    "        # Hint: you should make use of non-linearities / activation functions\n",
    "        # https://docs.chainer.org/en/stable/reference/functions.html#activation-functions\n",
    "        \n",
    "        # SOLUTION\n",
    "        \n",
    "        a1 = self.l1(x)\n",
    "        h1 = F.relu(a1)\n",
    "        a2 = self.l2(h1)\n",
    "        h2 = F.relu(a2)\n",
    "        a3 = self.l3(h2)\n",
    "        \n",
    "        return a3\n",
    "        # END OF SOLUTION\n",
    "        \n",
    "run(MLP(200, 10))"
   ]
  },
  {
   "cell_type": "markdown",
   "metadata": {},
   "source": [
    "Next you should try to implement logging test loss and see if the model is overfitting."
   ]
  },
  {
   "cell_type": "code",
   "execution_count": 10,
   "metadata": {},
   "outputs": [
    {
     "name": "stdout",
     "output_type": "stream",
     "text": [
      "Train: accuracy: 0.1875; loss: 2.22465896606\n",
      "Test: accuracy: 0.235; loss: 2.26699201584\n",
      "---\n",
      "Train: accuracy: 0.9; loss: 0.284228492379\n",
      "Test: accuracy: 0.84; loss: 0.512485772669\n",
      "---\n",
      "Train: accuracy: 0.9275; loss: 0.257063900828\n",
      "Test: accuracy: 0.8525; loss: 0.465323387384\n",
      "---\n",
      "Train: accuracy: 0.9275; loss: 0.211005628705\n",
      "Test: accuracy: 0.9; loss: 0.308968510628\n",
      "---\n",
      "Train: accuracy: 0.9425; loss: 0.194557437897\n",
      "Test: accuracy: 0.9; loss: 0.312252407074\n",
      "---\n",
      "Train: accuracy: 0.9325; loss: 0.230096690059\n",
      "Test: accuracy: 0.9225; loss: 0.237260146737\n",
      "---\n",
      "Train: accuracy: 0.9325; loss: 0.167544877529\n",
      "Test: accuracy: 0.9325; loss: 0.237918063998\n",
      "---\n",
      "Train: accuracy: 0.9675; loss: 0.0974924322963\n",
      "Test: accuracy: 0.9275; loss: 0.191263231933\n",
      "---\n",
      "Train: accuracy: 0.9625; loss: 0.119327769876\n",
      "Test: accuracy: 0.9375; loss: 0.199909154177\n",
      "---\n",
      "Train: accuracy: 0.9675; loss: 0.103237079382\n",
      "Test: accuracy: 0.9425; loss: 0.183929723501\n",
      "---\n",
      "Train: accuracy: 0.9575; loss: 0.129617249668\n",
      "Test: accuracy: 0.9375; loss: 0.193765764534\n",
      "---\n",
      "Train: accuracy: 0.9675; loss: 0.0987892493606\n",
      "Test: accuracy: 0.9325; loss: 0.20472435236\n",
      "---\n",
      "Train: accuracy: 0.9675; loss: 0.123416660726\n",
      "Test: accuracy: 0.945; loss: 0.168874151111\n",
      "---\n",
      "Train: accuracy: 0.9625; loss: 0.152844758928\n",
      "Test: accuracy: 0.935; loss: 0.190234075785\n",
      "---\n",
      "Train: accuracy: 0.9625; loss: 0.135103052258\n",
      "Test: accuracy: 0.94; loss: 0.182848321199\n",
      "---\n",
      "Train: accuracy: 0.9775; loss: 0.0902308392525\n",
      "Test: accuracy: 0.9425; loss: 0.179452741146\n",
      "---\n",
      "Train: accuracy: 0.9625; loss: 0.119786954522\n",
      "Test: accuracy: 0.9275; loss: 0.185162221193\n",
      "---\n",
      "Train: accuracy: 0.9825; loss: 0.0669767707586\n",
      "Test: accuracy: 0.935; loss: 0.169698693156\n",
      "---\n",
      "Train: accuracy: 0.965; loss: 0.0940151873231\n",
      "Test: accuracy: 0.9525; loss: 0.150243092477\n",
      "---\n",
      "Train: accuracy: 0.9625; loss: 0.12486405462\n",
      "Test: accuracy: 0.9425; loss: 0.194539924562\n",
      "---\n",
      "Train: accuracy: 0.9675; loss: 0.109370170832\n",
      "Test: accuracy: 0.9375; loss: 0.18019688189\n",
      "---\n",
      "Train: accuracy: 0.9775; loss: 0.0936650168896\n",
      "Test: accuracy: 0.955; loss: 0.158670171201\n",
      "---\n",
      "Train: accuracy: 0.975; loss: 0.0834726336598\n",
      "Test: accuracy: 0.9475; loss: 0.187857807577\n",
      "---\n",
      "Train: accuracy: 0.9725; loss: 0.117689839602\n",
      "Test: accuracy: 0.955; loss: 0.134179378152\n",
      "---\n",
      "Train: accuracy: 0.9875; loss: 0.0546641278267\n",
      "Test: accuracy: 0.9425; loss: 0.212662078142\n",
      "---\n",
      "Train: accuracy: 0.97; loss: 0.0904663267732\n",
      "Test: accuracy: 0.9575; loss: 0.173362127542\n",
      "---\n"
     ]
    }
   ],
   "source": [
    "def better_run(model, batchsize=16, num_epochs=2):\n",
    "\n",
    "    optimizer = chainer.optimizers.Adam() # we will use chainer's Adam implementation instead of writing our own gradient based optimization\n",
    "    optimizer.setup(model)\n",
    "    \n",
    "    stats = defaultdict(lambda: deque(maxlen=25))\n",
    "    test_stats = defaultdict(lambda: deque(maxlen=25))\n",
    "    for epoch in range(num_epochs):\n",
    "        train_iter = chainer.iterators.SerialIterator(train, batchsize, repeat=False, shuffle=True)\n",
    "        for itr, batch in enumerate(train_iter):\n",
    "            xs = np.concatenate([datum[0][None, :] for datum in batch])\n",
    "            ys = np.array([datum[1] for datum in batch])\n",
    "\n",
    "            logits = model(xs)\n",
    "\n",
    "            loss = F.softmax_cross_entropy(logits, ys)\n",
    "            model.cleargrads()\n",
    "            loss.backward()\n",
    "            optimizer.update()\n",
    "            \n",
    "            # calculate stats\n",
    "            stats[\"loss\"].append(float(loss.data))\n",
    "            stats[\"accuracy\"].append(float((logits.data.argmax(1) == ys).sum() / batchsize))\n",
    "            if itr % 300 == 0:\n",
    "                test_iter = chainer.iterators.SerialIterator(test, batchsize, repeat=False, shuffle=False)\n",
    "                # *** YOUR CODE implement logging of stats on test set ***\n",
    "                \n",
    "                # SOLUTION\n",
    "                \n",
    "                for test_itr, test_batch in enumerate(test_iter):\n",
    "                    test_xs = np.concatenate([datum[0][None, :] for datum in test_batch])\n",
    "                    test_ys = np.array([datum[1] for datum in test_batch])\n",
    "                    \n",
    "                    test_logits = model(test_xs)\n",
    "                    \n",
    "                    test_loss = F.softmax_cross_entropy(test_logits, test_ys)\n",
    "                    \n",
    "                    test_stats[\"loss\"].append(float(test_loss.data))\n",
    "                    test_stats[\"accuracy\"].append(float((test_logits.data.argmax(1) == test_ys).sum() / batchsize))\n",
    "                 \n",
    "                # END OF SOLUTION\n",
    "                \n",
    "                print(\"Train: \" + \"; \".join(\"%s: %s\" % (k, np.mean(vs)) for k, vs in stats.items()))\n",
    "                print(\"Test: \" + \"; \".join(\"%s: %s\" % (test_k, np.mean(test_vs)) for test_k, test_vs in test_stats.items()))\n",
    "                print(\"---\")\n",
    "\n",
    "better_run(MLP(200, 10))"
   ]
  },
  {
   "cell_type": "markdown",
   "metadata": {},
   "source": [
    "Try different variants!\n",
    "\n",
    "- Does using a ConvNet improve performance (reduce overfitting?)\n",
    "- Try changing the learning rate and observe the effect\n",
    "- Does the model train if you give it correlated gradients? (consecutively sample many batches of \"1\", then many batches of \"2\", ... etc"
   ]
  },
  {
   "cell_type": "code",
   "execution_count": null,
   "metadata": {},
   "outputs": [],
   "source": []
  }
 ],
 "metadata": {
  "kernelspec": {
   "display_name": "Python 3",
   "language": "python",
   "name": "python3"
  },
  "language_info": {
   "codemirror_mode": {
    "name": "ipython",
    "version": 3
   },
   "file_extension": ".py",
   "mimetype": "text/x-python",
   "name": "python",
   "nbconvert_exporter": "python",
   "pygments_lexer": "ipython3",
   "version": "3.5.3"
  }
 },
 "nbformat": 4,
 "nbformat_minor": 1
}
